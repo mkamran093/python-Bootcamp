{
 "cells": [
  {
   "cell_type": "code",
   "execution_count": 15,
   "metadata": {},
   "outputs": [
    {
     "data": {
      "text/plain": [
       "'bziwapsurnilatqu'"
      ]
     },
     "execution_count": 15,
     "metadata": {},
     "output_type": "execute_result"
    }
   ],
   "source": [
    "'bziwapsurnilatqu'"
   ]
  },
  {
   "cell_type": "code",
   "execution_count": 16,
   "metadata": {},
   "outputs": [],
   "source": [
    "import imaplib"
   ]
  },
  {
   "cell_type": "code",
   "execution_count": 17,
   "metadata": {},
   "outputs": [],
   "source": [
    "M = imaplib.IMAP4_SSL('imap.gmail.com')"
   ]
  },
  {
   "cell_type": "code",
   "execution_count": 18,
   "metadata": {},
   "outputs": [],
   "source": [
    "import getpass"
   ]
  },
  {
   "cell_type": "code",
   "execution_count": 19,
   "metadata": {},
   "outputs": [
    {
     "name": "stdout",
     "output_type": "stream",
     "text": [
      "Email : mkamran.bscssef20@iba-suk.edu.pk\n",
      "Password: ········\n"
     ]
    }
   ],
   "source": [
    "email = input(\"Email : \")\n",
    "password = getpass.getpass(\"Password: \")"
   ]
  },
  {
   "cell_type": "code",
   "execution_count": 20,
   "metadata": {},
   "outputs": [
    {
     "data": {
      "text/plain": [
       "('OK', [b'mkamran.bscssef20@iba-suk.edu.pk authenticated (Success)'])"
      ]
     },
     "execution_count": 20,
     "metadata": {},
     "output_type": "execute_result"
    }
   ],
   "source": [
    "M.login(email, password)"
   ]
  },
  {
   "cell_type": "code",
   "execution_count": 21,
   "metadata": {},
   "outputs": [
    {
     "data": {
      "text/plain": [
       "('OK',\n",
       " [b'(\\\\HasNoChildren) \"/\" \"INBOX\"',\n",
       "  b'(\\\\HasChildren \\\\Noselect) \"/\" \"[Gmail]\"',\n",
       "  b'(\\\\All \\\\HasNoChildren) \"/\" \"[Gmail]/All Mail\"',\n",
       "  b'(\\\\Drafts \\\\HasNoChildren) \"/\" \"[Gmail]/Drafts\"',\n",
       "  b'(\\\\HasNoChildren \\\\Important) \"/\" \"[Gmail]/Important\"',\n",
       "  b'(\\\\HasNoChildren \\\\Sent) \"/\" \"[Gmail]/Sent Mail\"',\n",
       "  b'(\\\\HasNoChildren \\\\Junk) \"/\" \"[Gmail]/Spam\"',\n",
       "  b'(\\\\Flagged \\\\HasNoChildren) \"/\" \"[Gmail]/Starred\"',\n",
       "  b'(\\\\HasNoChildren \\\\Trash) \"/\" \"[Gmail]/Trash\"'])"
      ]
     },
     "execution_count": 21,
     "metadata": {},
     "output_type": "execute_result"
    }
   ],
   "source": [
    "M.list()"
   ]
  },
  {
   "cell_type": "code",
   "execution_count": 22,
   "metadata": {},
   "outputs": [
    {
     "data": {
      "text/plain": [
       "('OK', [b'109'])"
      ]
     },
     "execution_count": 22,
     "metadata": {},
     "output_type": "execute_result"
    }
   ],
   "source": [
    "M.select('inbox')"
   ]
  },
  {
   "cell_type": "code",
   "execution_count": 31,
   "metadata": {},
   "outputs": [],
   "source": [
    "typ, data = M.search(None, 'SUBJECT \"CHECKING\"')"
   ]
  },
  {
   "cell_type": "code",
   "execution_count": 32,
   "metadata": {},
   "outputs": [
    {
     "data": {
      "text/plain": [
       "'OK'"
      ]
     },
     "execution_count": 32,
     "metadata": {},
     "output_type": "execute_result"
    }
   ],
   "source": [
    "typ"
   ]
  },
  {
   "cell_type": "code",
   "execution_count": 33,
   "metadata": {},
   "outputs": [
    {
     "data": {
      "text/plain": [
       "[b'104']"
      ]
     },
     "execution_count": 33,
     "metadata": {},
     "output_type": "execute_result"
    }
   ],
   "source": [
    "data"
   ]
  },
  {
   "cell_type": "code",
   "execution_count": 34,
   "metadata": {},
   "outputs": [],
   "source": [
    "email_id = data[0]"
   ]
  },
  {
   "cell_type": "code",
   "execution_count": 36,
   "metadata": {},
   "outputs": [],
   "source": [
    "result, email_data = M.fetch(email_id, '(RFC822)')"
   ]
  },
  {
   "cell_type": "code",
   "execution_count": 37,
   "metadata": {},
   "outputs": [
    {
     "data": {
      "text/plain": [
       "[(b'104 (RFC822 {4978}',\n",
       "  b'Delivered-To: mkamran.bscssef20@iba-suk.edu.pk\\r\\nReceived: by 2002:adf:e941:0:0:0:0:0 with SMTP id m1csp1287783wrn;\\r\\n        Sun, 20 Nov 2022 23:27:37 -0800 (PST)\\r\\nX-Received: by 2002:a5d:69c4:0:b0:236:c206:b2b1 with SMTP id s4-20020a5d69c4000000b00236c206b2b1mr10032296wrw.624.1669015657202;\\r\\n        Sun, 20 Nov 2022 23:27:37 -0800 (PST)\\r\\nARC-Seal: i=1; a=rsa-sha256; t=1669015657; cv=none;\\r\\n        d=google.com; s=arc-20160816;\\r\\n        b=oYBj8ZIjV+p5pWs16aJbKHqVmC9LhAAJHtkEm6N4vdQmFGfRuV0ZzTnpQKGubEYPQz\\r\\n         cH1qJy1QXQ17saxThc4wG7X2vaD6fsWfuP3byV8s5/oRwYuV8ajTTFeyCC765daAeoVr\\r\\n         gIp6k97KyDRCM7VYmslcJ2g2QvQIJPtLYN6D9a9md7oK9WBPt8TQ2M40pmOvVIkuIc6Q\\r\\n         nbdF6jQwa+OYegp9hq+rBvp2znfyXMdNS3d7s03fF4TZsz6beNj6KqU+l6KMUDIOyNZk\\r\\n         Zvl+v8YFVNUyrvteim6nAR1Qy4TkgQNLC35ulLPy/C3RyN7dEGouN/+8URgZGlg9zx6S\\r\\n         cyuA==\\r\\nARC-Message-Signature: i=1; a=rsa-sha256; c=relaxed/relaxed; d=google.com; s=arc-20160816;\\r\\n        h=subject:from:date:message-id:dkim-signature;\\r\\n        bh=sLbY4wvtoSahGS0LI6hUPrYV/Gs9kZr15oSUQrRG1ac=;\\r\\n        b=Jn+PYIqfxBVSJzheyiaxy8vOIdFsWeb1YEJ37oJpfuI78DjpZfqHGwpRdQbvXWYABX\\r\\n         7M5s2beSB15gWyxgACZFjMjZrX8lKwozG88IHJZ5rRHMqkXQSSFUvEch/ZzFGI5xDur/\\r\\n         wsUlCmRuFLzNaV7DPfgjQc6EDxYeTlHy8y8QrVgQwBrCnmssH9tyy8sbyQMY3Fdxx61g\\r\\n         iJunuZ54s/1bixDN/EiatDORtLmlD1E5quBaE8VnSjSrGCTjrDI10rzfZrCLEmn4zuDT\\r\\n         Hh5C7GSuz1G2k9/WfRUbrl53F+wnlDIwqeImpt7umuStgjVY29ujestGrZzSEOysOlHG\\r\\n         iQuw==\\r\\nARC-Authentication-Results: i=1; mx.google.com;\\r\\n       dkim=pass header.i=@gmail.com header.s=20210112 header.b=LB4XIOUb;\\r\\n       spf=pass (google.com: domain of cweb051214@gmail.com designates 209.85.220.41 as permitted sender) smtp.mailfrom=cweb051214@gmail.com;\\r\\n       dmarc=pass (p=NONE sp=QUARANTINE dis=NONE) header.from=gmail.com\\r\\nReturn-Path: <cweb051214@gmail.com>\\r\\nReceived: from mail-sor-f41.google.com (mail-sor-f41.google.com. [209.85.220.41])\\r\\n        by mx.google.com with SMTPS id f10-20020adf9c0a000000b0023652708ed0sor5333043wrc.66.2022.11.20.23.27.36\\r\\n        for <mkamran.bscssef20@iba-suk.edu.pk>\\r\\n        (Google Transport Security);\\r\\n        Sun, 20 Nov 2022 23:27:37 -0800 (PST)\\r\\nReceived-SPF: pass (google.com: domain of cweb051214@gmail.com designates 209.85.220.41 as permitted sender) client-ip=209.85.220.41;\\r\\nAuthentication-Results: mx.google.com;\\r\\n       dkim=pass header.i=@gmail.com header.s=20210112 header.b=LB4XIOUb;\\r\\n       spf=pass (google.com: domain of cweb051214@gmail.com designates 209.85.220.41 as permitted sender) smtp.mailfrom=cweb051214@gmail.com;\\r\\n       dmarc=pass (p=NONE sp=QUARANTINE dis=NONE) header.from=gmail.com\\r\\nDKIM-Signature: v=1; a=rsa-sha256; c=relaxed/relaxed;\\r\\n        d=gmail.com; s=20210112;\\r\\n        h=subject:from:date:message-id:from:to:cc:subject:date:message-id\\r\\n         :reply-to;\\r\\n        bh=sLbY4wvtoSahGS0LI6hUPrYV/Gs9kZr15oSUQrRG1ac=;\\r\\n        b=LB4XIOUbpdXKbIkJp/v0My4vz0aKNDFl8zLDnRHhEcdw1Hn4miAfncAtnF3IW055v1\\r\\n         C9BZAm8F5z+HAjhYbECq1hSlThrYFvebjIVHeYi4xCqZRwzO53X/8LEFJ9v1qB7HgRne\\r\\n         sUleeePtE5i9w3QeHkzBbQ28YmiUwcVP7iq9yF+90ZJ7JjeTFdk3wBwFdZbqmOSS/KrR\\r\\n         W1v+M2jmL7B3WT8pjOqAiiqObJU3BUZs/tYBuxHOdZ5XnAOk5vdNEkXdcgaZ6c4SQNee\\r\\n         0HyvPiEujK+0Tz52mZY5A4Mp000FdbX1EFwXhVxRHtXxdPMEXiKnpObsZmbaYoTlIZwY\\r\\n         hA0g==\\r\\nX-Google-DKIM-Signature: v=1; a=rsa-sha256; c=relaxed/relaxed;\\r\\n        d=1e100.net; s=20210112;\\r\\n        h=subject:from:date:message-id:x-gm-message-state:from:to:cc:subject\\r\\n         :date:message-id:reply-to;\\r\\n        bh=sLbY4wvtoSahGS0LI6hUPrYV/Gs9kZr15oSUQrRG1ac=;\\r\\n        b=oOz0EX9mBGdqAoVOkfRhEvRl6zcSR1HMnGOBOgwTBdaMLxcyYEffNVTQRgEWqT3IvV\\r\\n         GoTmRcxF18KSoIH7txaW/YiAkw55JXMkAfzWq9rdKAdsNH0BMCTTlIVqkESl7B2GSZNh\\r\\n         VtryoPb8ri8b1YMh+6qbIHgtFOYR/5zKhKw0l3gm6gv2puM7bKGQj/ufmqoLq8Snr+kV\\r\\n         n0cSbfTtIB9nL1n+q+/fiMz7+BSTDJAy8s2m6uKmRAoVYDvW0HZBY44RYUm433ehmVMt\\r\\n         Blp0TFM7iARp6ZN6Mq0VlDnhnm2tF13IgfiAN2O6bn9XbLzu8+vg35p7tBRqYyZUmrC2\\r\\n         PPgA==\\r\\nX-Gm-Message-State: ANoB5pm5LWS4De35RAOPTtpfOp22Lztx96PAxuV5RcEfzHf1b8ew4fWu\\r\\n\\tVOW5et/t1rm9qfb/MRIKF8sNl7ylFcX71Q==\\r\\nX-Google-Smtp-Source: AA0mqf6RiMGAhROC6ZWgkAm/PgnMgEtmM+ZWPHa1+fcCQgNy8pusWQNUQ7lxAXknzZHizmbDaMHM/w==\\r\\nX-Received: by 2002:a5d:6b0e:0:b0:236:7439:61e7 with SMTP id v14-20020a5d6b0e000000b00236743961e7mr1991024wrw.611.1669015656330;\\r\\n        Sun, 20 Nov 2022 23:27:36 -0800 (PST)\\r\\nReturn-Path: <cweb051214@gmail.com>\\r\\nReceived: from [192.168.10.33] ([39.48.48.120])\\r\\n        by smtp.gmail.com with ESMTPSA id f19-20020a05600c4e9300b003cfd4a50d5asm18849072wmq.34.2022.11.20.23.27.35\\r\\n        for <mkamran.bscssef20@iba-suk.edu.pk>\\r\\n        (version=TLS1_3 cipher=TLS_AES_256_GCM_SHA384 bits=256/256);\\r\\n        Sun, 20 Nov 2022 23:27:35 -0800 (PST)\\r\\nMessage-ID: <637b2867.050a0220.6c260.a6b5@mx.google.com>\\r\\nDate: Sun, 20 Nov 2022 23:27:35 -0800 (PST)\\r\\nFrom: cweb051214@gmail.com\\r\\nSubject: CHECKING\\r\\n\\r\\nHello Kamran,\\\\nI was just checking, tell me if you receive the mail through my python code.\\r\\n'),\n",
       " b')']"
      ]
     },
     "execution_count": 37,
     "metadata": {},
     "output_type": "execute_result"
    }
   ],
   "source": [
    "email_data"
   ]
  },
  {
   "cell_type": "code",
   "execution_count": 38,
   "metadata": {},
   "outputs": [],
   "source": [
    "raw_email = email_data[0][1]"
   ]
  },
  {
   "cell_type": "code",
   "execution_count": 39,
   "metadata": {},
   "outputs": [],
   "source": [
    "raw_email_string = raw_email.decode('utf-8')"
   ]
  },
  {
   "cell_type": "code",
   "execution_count": 40,
   "metadata": {},
   "outputs": [],
   "source": [
    "import email"
   ]
  },
  {
   "cell_type": "code",
   "execution_count": 41,
   "metadata": {},
   "outputs": [],
   "source": [
    "email_message = email.message_from_string(raw_email_string)"
   ]
  },
  {
   "cell_type": "code",
   "execution_count": 42,
   "metadata": {},
   "outputs": [
    {
     "name": "stdout",
     "output_type": "stream",
     "text": [
      "b'Hello Kamran,\\\\nI was just checking, tell me if you receive the mail through my python code.\\r\\n'\n"
     ]
    }
   ],
   "source": [
    "for part in email_message.walk():\n",
    "    if part.get_content_type() == 'text/plain':\n",
    "        body = part.get_payload(decode = True)\n",
    "        print(body)"
   ]
  },
  {
   "cell_type": "code",
   "execution_count": null,
   "metadata": {},
   "outputs": [],
   "source": []
  }
 ],
 "metadata": {
  "kernelspec": {
   "display_name": "Python 3",
   "language": "python",
   "name": "python3"
  },
  "language_info": {
   "codemirror_mode": {
    "name": "ipython",
    "version": 3
   },
   "file_extension": ".py",
   "mimetype": "text/x-python",
   "name": "python",
   "nbconvert_exporter": "python",
   "pygments_lexer": "ipython3",
   "version": "3.7.3"
  }
 },
 "nbformat": 4,
 "nbformat_minor": 2
}
