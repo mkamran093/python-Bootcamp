{
 "cells": [
  {
   "cell_type": "code",
   "execution_count": 10,
   "id": "19948a93",
   "metadata": {},
   "outputs": [],
   "source": [
    "def shuffle_list(mylist):\n",
    "    shuffle(mylist)\n",
    "    return mylist"
   ]
  },
  {
   "cell_type": "code",
   "execution_count": 13,
   "id": "cadc4698",
   "metadata": {},
   "outputs": [],
   "source": [
    "def player_guess ():\n",
    "    guess = ''\n",
    "    while guess not in ['0', '1', '2']:\n",
    "        guess = input(\"Pick a number from 0, 1 or 2: \")\n",
    "    \n",
    "    return int(guess)"
   ]
  },
  {
   "cell_type": "code",
   "execution_count": 8,
   "id": "0e6ee885",
   "metadata": {},
   "outputs": [],
   "source": [
    " def check_guess(mylist, guess):\n",
    "        if mylist[guess] == 'O':\n",
    "            print(\"Correct\")\n",
    "        else:\n",
    "            print ('Wrong Guess')\n",
    "            print (mylist)"
   ]
  },
  {
   "cell_type": "code",
   "execution_count": 18,
   "id": "e79d5e39",
   "metadata": {},
   "outputs": [
    {
     "name": "stdout",
     "output_type": "stream",
     "text": [
      "Pick a number from 0, 1 or 2: 1\n",
      "Wrong Guess\n",
      "['O', ' ', ' ']\n"
     ]
    }
   ],
   "source": [
    "mylist = [' ', 'O', ' ']\n",
    "\n",
    "mixedup_list = shuffle_list(mylist)\n",
    "\n",
    "guess = player_guess()\n",
    "\n",
    "check_guess(mixedup_list, guess)"
   ]
  },
  {
   "cell_type": "code",
   "execution_count": null,
   "id": "1063479b",
   "metadata": {},
   "outputs": [],
   "source": []
  }
 ],
 "metadata": {
  "kernelspec": {
   "display_name": "Python 3 (ipykernel)",
   "language": "python",
   "name": "python3"
  },
  "language_info": {
   "codemirror_mode": {
    "name": "ipython",
    "version": 3
   },
   "file_extension": ".py",
   "mimetype": "text/x-python",
   "name": "python",
   "nbconvert_exporter": "python",
   "pygments_lexer": "ipython3",
   "version": "3.8.10"
  }
 },
 "nbformat": 4,
 "nbformat_minor": 5
}
