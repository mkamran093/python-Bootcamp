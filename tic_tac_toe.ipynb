{
 "cells": [
  {
   "cell_type": "code",
   "execution_count": 2,
   "metadata": {},
   "outputs": [],
   "source": [
    "\n",
    "\n",
    "def display (board):\n",
    "    \n",
    "    clear_output()\n",
    "\n",
    "    print(\" \"+board[1]+\" | \"+board[2]+\" | \"+board[3]+\" \")\n",
    "    print(\"-----------\") \n",
    "    print(\" \"+board[4]+\" | \"+board[5]+\" | \"+board[6]+\" \")\n",
    "    print(\"-----------\") \n",
    "    print(\" \"+board[7]+\" | \"+board[8]+\" | \"+board[9]+\" \")"
   ]
  },
  {
   "cell_type": "code",
   "execution_count": 3,
   "metadata": {},
   "outputs": [],
   "source": [
    "def player_input():\n",
    "    \n",
    "    marker = ''\n",
    "    while marker not in ['X', 'O']:\n",
    "        marker = input(\"Player1: Select your Marker(X or O): \").upper()\n",
    "        \n",
    "    if marker == 'X':\n",
    "        return ('X', 'O')\n",
    "    else:\n",
    "        return ('O', 'X')"
   ]
  },
  {
   "cell_type": "code",
   "execution_count": 4,
   "metadata": {},
   "outputs": [],
   "source": [
    "def place_marker (board, marker, position):\n",
    "    board[position] = marker"
   ]
  },
  {
   "cell_type": "code",
   "execution_count": 5,
   "metadata": {},
   "outputs": [],
   "source": [
    "def win_check (board, mark):\n",
    "    \n",
    "    return ((board[1] == mark and board[2] == mark and board[3] == mark) or \n",
    "    (board[4] == mark and board[5] == mark and board[6] == mark) or\n",
    "    (board[7] == mark and board[8] == mark and board[9] == mark) or\n",
    "    (board[1] == mark and board[4] == mark and board[7] == mark) or\n",
    "    (board[1] == mark and board[5] == mark and board[9] == mark) or\n",
    "    (board[3] == mark and board[6] == mark and board[9] == mark) or\n",
    "    (board[3] == mark and board[5] == mark and board[7] == mark) or\n",
    "    (board[2] == mark and board[5] == mark and board[8] == mark))"
   ]
  },
  {
   "cell_type": "code",
   "execution_count": 6,
   "metadata": {},
   "outputs": [],
   "source": [
    "import random\n",
    "\n",
    "def choose_first():\n",
    "    if random.randint(0, 1) == 0:\n",
    "        return \"Player 1\"\n",
    "    else:\n",
    "        return \"Player 2\""
   ]
  },
  {
   "cell_type": "code",
   "execution_count": 7,
   "metadata": {},
   "outputs": [],
   "source": [
    "def space_check (board, position):\n",
    "    if board[position] == ' ':\n",
    "        return True\n",
    "    else:\n",
    "        return False"
   ]
  },
  {
   "cell_type": "code",
   "execution_count": 8,
   "metadata": {},
   "outputs": [],
   "source": [
    "def full_board_check (board):\n",
    "    for char in board:\n",
    "        if char == ' ':\n",
    "            return False\n",
    "    return True"
   ]
  },
  {
   "cell_type": "code",
   "execution_count": 15,
   "metadata": {},
   "outputs": [],
   "source": [
    "def player_choice ():\n",
    "    choice = 0\n",
    "    \n",
    "    while choice not in range(1, 10):\n",
    "        choice = int(input(\"Enter a position: \"))\n",
    "    return choice"
   ]
  },
  {
   "cell_type": "code",
   "execution_count": 16,
   "metadata": {},
   "outputs": [],
   "source": [
    "def replay ():\n",
    "    choice = input(\"Do you want to play another game(Y or N): \").upper()\n",
    "    if choice == 'Y':\n",
    "        return True\n",
    "    else: \n",
    "        return False"
   ]
  },
  {
   "cell_type": "code",
   "execution_count": 17,
   "metadata": {},
   "outputs": [
    {
     "name": "stdout",
     "output_type": "stream",
     "text": [
      " X |   |   \n",
      "-----------\n",
      "   |   |   \n",
      "-----------\n",
      "   |   |   \n",
      "Enter a position: \n"
     ]
    },
    {
     "ename": "ValueError",
     "evalue": "invalid literal for int() with base 10: ''",
     "output_type": "error",
     "traceback": [
      "\u001b[0;31m---------------------------------------------------------------------------\u001b[0m",
      "\u001b[0;31mValueError\u001b[0m                                Traceback (most recent call last)",
      "\u001b[0;32m<ipython-input-17-d65868e89fb3>\u001b[0m in \u001b[0;36m<module>\u001b[0;34m\u001b[0m\n\u001b[1;32m     37\u001b[0m \u001b[0;34m\u001b[0m\u001b[0m\n\u001b[1;32m     38\u001b[0m             \u001b[0mdisplay\u001b[0m\u001b[0;34m(\u001b[0m\u001b[0mboard\u001b[0m\u001b[0;34m)\u001b[0m\u001b[0;34m\u001b[0m\u001b[0;34m\u001b[0m\u001b[0m\n\u001b[0;32m---> 39\u001b[0;31m             \u001b[0mposition\u001b[0m \u001b[0;34m=\u001b[0m \u001b[0mplayer_choice\u001b[0m\u001b[0;34m(\u001b[0m\u001b[0;34m)\u001b[0m\u001b[0;34m\u001b[0m\u001b[0;34m\u001b[0m\u001b[0m\n\u001b[0m\u001b[1;32m     40\u001b[0m             \u001b[0mplace_marker\u001b[0m\u001b[0;34m(\u001b[0m\u001b[0mboard\u001b[0m\u001b[0;34m,\u001b[0m \u001b[0mplayer2_marker\u001b[0m\u001b[0;34m,\u001b[0m \u001b[0mposition\u001b[0m\u001b[0;34m)\u001b[0m\u001b[0;34m\u001b[0m\u001b[0;34m\u001b[0m\u001b[0m\n\u001b[1;32m     41\u001b[0m \u001b[0;34m\u001b[0m\u001b[0m\n",
      "\u001b[0;32m<ipython-input-15-09531db6a5a7>\u001b[0m in \u001b[0;36mplayer_choice\u001b[0;34m()\u001b[0m\n\u001b[1;32m      3\u001b[0m \u001b[0;34m\u001b[0m\u001b[0m\n\u001b[1;32m      4\u001b[0m     \u001b[0;32mwhile\u001b[0m \u001b[0mchoice\u001b[0m \u001b[0;32mnot\u001b[0m \u001b[0;32min\u001b[0m \u001b[0mrange\u001b[0m\u001b[0;34m(\u001b[0m\u001b[0;36m1\u001b[0m\u001b[0;34m,\u001b[0m \u001b[0;36m10\u001b[0m\u001b[0;34m)\u001b[0m \u001b[0;32mand\u001b[0m \u001b[0;32mnot\u001b[0m \u001b[0mspace_check\u001b[0m\u001b[0;34m(\u001b[0m\u001b[0mboard\u001b[0m\u001b[0;34m,\u001b[0m \u001b[0mchoice\u001b[0m\u001b[0;34m)\u001b[0m\u001b[0;34m:\u001b[0m\u001b[0;34m\u001b[0m\u001b[0;34m\u001b[0m\u001b[0m\n\u001b[0;32m----> 5\u001b[0;31m         \u001b[0mchoice\u001b[0m \u001b[0;34m=\u001b[0m \u001b[0mint\u001b[0m\u001b[0;34m(\u001b[0m\u001b[0minput\u001b[0m\u001b[0;34m(\u001b[0m\u001b[0;34m\"Enter a position: \"\u001b[0m\u001b[0;34m)\u001b[0m\u001b[0;34m)\u001b[0m\u001b[0;34m\u001b[0m\u001b[0;34m\u001b[0m\u001b[0m\n\u001b[0m\u001b[1;32m      6\u001b[0m     \u001b[0;32mreturn\u001b[0m \u001b[0mchoice\u001b[0m\u001b[0;34m\u001b[0m\u001b[0;34m\u001b[0m\u001b[0m\n",
      "\u001b[0;31mValueError\u001b[0m: invalid literal for int() with base 10: ''"
     ]
    }
   ],
   "source": [
    "print(\"Welcome to Tic Tac Toe Game\")\n",
    "from IPython.display import clear_output\n",
    "\n",
    "while True:\n",
    "    board = ['#', ' ', ' ', ' ', ' ', ' ', ' ', ' ', ' ', ' ']\n",
    "    player1_marker, player2_marker = player_input()\n",
    "    turn = choose_first()\n",
    "    print(turn + \" will go first\")\n",
    "    \n",
    "    play_game = input(\"Ready to play? (Y or N): \")\n",
    "    \n",
    "    if play_game.lower() == 'y':\n",
    "        game_on = True\n",
    "    else: \n",
    "        game_on = False\n",
    "    \n",
    "    while game_on:\n",
    "        if turn == \"Player 1\":\n",
    "            display(board)\n",
    "            position = player_choice()\n",
    "            place_marker(board, player1_marker, position)\n",
    "            \n",
    "            if win_check(board, player1_marker):\n",
    "                display(board)\n",
    "                print(\"Congratulations!!! Player 1 WON the game\")\n",
    "                game_on = False\n",
    "                \n",
    "            else:\n",
    "                if full_board_check(board):\n",
    "                    display(board)\n",
    "                    print(\"The game is a draw\")\n",
    "                    break\n",
    "                else:\n",
    "                    turn = \"Player 2\"\n",
    "        \n",
    "        else:\n",
    "            \n",
    "            display(board)\n",
    "            position = player_choice()\n",
    "            place_marker(board, player2_marker, position)\n",
    "            \n",
    "            if win_check(board, player2_marker):\n",
    "                display(board)\n",
    "                print(\"Congratulations!!! Player 2 WON the game\")\n",
    "                game_on = False\n",
    "                \n",
    "            else:\n",
    "                if full_board_check(board):\n",
    "                    display(board)\n",
    "                    print(\"The game is a draw\")\n",
    "                    break\n",
    "                else:\n",
    "                    turn = \"Player 1\"\n",
    "    if not replay():\n",
    "        break\n",
    "            "
   ]
  },
  {
   "cell_type": "code",
   "execution_count": null,
   "metadata": {},
   "outputs": [],
   "source": []
  }
 ],
 "metadata": {
  "kernelspec": {
   "display_name": "Python 3",
   "language": "python",
   "name": "python3"
  },
  "language_info": {
   "codemirror_mode": {
    "name": "ipython",
    "version": 3
   },
   "file_extension": ".py",
   "mimetype": "text/x-python",
   "name": "python",
   "nbconvert_exporter": "python",
   "pygments_lexer": "ipython3",
   "version": "3.7.3"
  }
 },
 "nbformat": 4,
 "nbformat_minor": 2
}
