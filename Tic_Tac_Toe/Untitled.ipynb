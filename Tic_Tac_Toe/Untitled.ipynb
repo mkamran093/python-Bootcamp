{
 "cells": [
  {
   "cell_type": "code",
   "execution_count": 2,
   "metadata": {},
   "outputs": [],
   "source": [
    "def display(board):\n",
    "    \n",
    "    clear_output()\n",
    "    print(\" \" + board[1] + \" | \" + board[2] + \" | \" + board[3] + \" \")\n",
    "    print(\"-----------\")\n",
    "    print(\" \" + board[4] + \" | \" + board[5] + \" | \" + board[6] + \" \")\n",
    "    print(\"-----------\")\n",
    "    print(\" \" + board[7] + \" | \" + board[8] + \" | \" + board[9] + \" \")"
   ]
  },
  {
   "cell_type": "code",
   "execution_count": 3,
   "metadata": {},
   "outputs": [],
   "source": [
    "def user_input():\n",
    "    mark = ''\n",
    "    \n",
    "    while mark not in ['X', 'O']:\n",
    "        mark = input(\"Player1: select marker (X or O): \").upper()\n",
    "        \n",
    "    if mark == 'X':\n",
    "        return ('X', 'O')\n",
    "    else:\n",
    "        return ('O', 'X')"
   ]
  },
  {
   "cell_type": "code",
   "execution_count": 4,
   "metadata": {},
   "outputs": [],
   "source": [
    "import random\n",
    "\n",
    "def choose_first():\n",
    "    if random.randint(0, 1) == 0:\n",
    "        return \"Player1\"\n",
    "    else:\n",
    "        return \"Player2\"\n",
    "    "
   ]
  },
  {
   "cell_type": "code",
   "execution_count": null,
   "metadata": {},
   "outputs": [],
   "source": [
    "def player_choice():\n",
    "    pos = 0\n",
    "    while True:\n",
    "        pos =  int(input(\"Enter position: \")) \n",
    "        if pos in range(1, 10) and space_check(board, pos):\n",
    "            break\n",
    "        else:\n",
    "            print(\"Position already filled\")\n",
    "    return pos"
   ]
  },
  {
   "cell_type": "code",
   "execution_count": null,
   "metadata": {},
   "outputs": [],
   "source": [
    "def place_marker(board, mark, pos):\n",
    "    board[pos] = mark"
   ]
  },
  {
   "cell_type": "code",
   "execution_count": null,
   "metadata": {},
   "outputs": [],
   "source": [
    "def check_win(board, mark):\n",
    "    return ((board[1]==mark and board[2]==mark and board[3]==mark) or\n",
    "            (board[4]==mark and board[5]==mark and board[6]==mark) or\n",
    "            (board[7]==mark and board[8]==mark and board[9]==mark) or\n",
    "            (board[1]==mark and board[4]==mark and board[7]==mark) or\n",
    "            (board[2]==mark and board[5]==mark and board[8]==mark) or\n",
    "            (board[3]==mark and board[6]==mark and board[9]==mark) or\n",
    "            (board[1]==mark and board[5]==mark and board[9]==mark) or\n",
    "            (board[3]==mark and board[5]==mark and board[7]==mark) )"
   ]
  },
  {
   "cell_type": "code",
   "execution_count": null,
   "metadata": {},
   "outputs": [],
   "source": [
    "def space_check(board, pos):\n",
    "    return board[pos] == ' '"
   ]
  },
  {
   "cell_type": "code",
   "execution_count": null,
   "metadata": {},
   "outputs": [],
   "source": [
    "def full_board_check(board):\n",
    "    for char in board:\n",
    "        if char == ' ':\n",
    "            return False\n",
    "    return True"
   ]
  },
  {
   "cell_type": "code",
   "execution_count": null,
   "metadata": {},
   "outputs": [],
   "source": [
    "def replay():\n",
    "    choice = input(\"Do you want to play another game(Y/N): \").lower()\n",
    "    if choice == 'y':\n",
    "        return True\n",
    "    return False"
   ]
  },
  {
   "cell_type": "code",
   "execution_count": null,
   "metadata": {},
   "outputs": [],
   "source": [
    "print(\"WELCOME TO TIC-TAC-TOE GAME\") \n",
    "from IPython.display import clear_output\n",
    "\n",
    "while True:\n",
    "    board = ['#', ' ', ' ', ' ', ' ', ' ', ' ', ' ', ' ', ' '] \n",
    "    p1_marker, p2_marker = user_input() \n",
    "    turn = choose_first() \n",
    "    print(turn + \" will go first\")\n",
    "\n",
    "    play_game = input(\"Are you ready to play(Y/N): \")\n",
    "\n",
    "    if play_game.lower() == 'y':\n",
    "        game_on = True\n",
    "    else:\n",
    "        game_on = False\n",
    "\n",
    "    while game_on:\n",
    "        if turn == \"Player1\":\n",
    "            display(board)\n",
    "            position = player_choice()\n",
    "            place_marker(board, p1_marker, position)\n",
    "\n",
    "            if check_win(board, p1_marker):\n",
    "                display(board)\n",
    "                print(\"Congratulations!! Player1 won the game\")\n",
    "                game_on = False\n",
    "            else:\n",
    "                if full_board_check(board):\n",
    "                    display(board)\n",
    "                    print(\"The game is a draw\")\n",
    "                    break\n",
    "                else:\n",
    "                    turn = \"Player2\"\n",
    "        else:\n",
    "            display(board)\n",
    "            position = player_choice()\n",
    "            place_marker(board, p2_marker, position)\n",
    "\n",
    "            if check_win(board, p2_marker):\n",
    "                display(board)\n",
    "                print(\"Congratulations!! Player2 won the game\")\n",
    "                game_on = False\n",
    "            else:\n",
    "                if full_board_check(board):\n",
    "                    display(board)\n",
    "                    print(\"The game is a draw\")\n",
    "                    break\n",
    "                else:\n",
    "                    turn = \"Player1\"\n",
    "    if not replay():\n",
    "        break"
   ]
  },
  {
   "cell_type": "code",
   "execution_count": null,
   "metadata": {},
   "outputs": [],
   "source": []
  }
 ],
 "metadata": {
  "kernelspec": {
   "display_name": "Python 3",
   "language": "python",
   "name": "python3"
  },
  "language_info": {
   "codemirror_mode": {
    "name": "ipython",
    "version": 3
   },
   "file_extension": ".py",
   "mimetype": "text/x-python",
   "name": "python",
   "nbconvert_exporter": "python",
   "pygments_lexer": "ipython3",
   "version": "3.7.3"
  }
 },
 "nbformat": 4,
 "nbformat_minor": 2
}
